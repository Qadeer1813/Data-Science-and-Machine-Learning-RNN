{
 "cells": [
  {
   "cell_type": "markdown",
   "metadata": {},
   "source": [
    "# Student Name: Qadeer Hussain\n",
    "\n",
    "# Student ID: C00270632\n",
    "\n",
    "# Topic: Recurrent Neural Network (RNN) \n",
    "\n",
    "# Last Modified: 23/03/2025"
   ]
  },
  {
   "cell_type": "code",
   "execution_count": null,
   "metadata": {},
   "outputs": [
    {
     "name": "stdout",
     "output_type": "stream",
     "text": [
      "WARNING:tensorflow:From C:\\Users\\qadee\\AppData\\Local\\Packages\\PythonSoftwareFoundation.Python.3.11_qbz5n2kfra8p0\\LocalCache\\local-packages\\Python311\\site-packages\\keras\\src\\losses.py:2976: The name tf.losses.sparse_softmax_cross_entropy is deprecated. Please use tf.compat.v1.losses.sparse_softmax_cross_entropy instead.\n",
      "\n"
     ]
    }
   ],
   "source": [
    "import numpy as np\n",
    "import pandas as pd\n",
    "import tensorflow as tf\n",
    "import re\n",
    "from tensorflow.keras.utils import to_categorical\n",
    "from tensorflow.keras.models import Sequential\n",
    "from tensorflow.keras.layers import LSTM, Dense, Dropout\n",
    "import matplotlib.pyplot as plt"
   ]
  },
  {
   "cell_type": "markdown",
   "metadata": {},
   "source": [
    "# Load the data\n",
    "\n",
    "Link to data: https://www.gutenberg.org/ebooks/1057"
   ]
  },
  {
   "cell_type": "code",
   "execution_count": 2,
   "metadata": {},
   "outputs": [],
   "source": [
    "# Load the file\n",
    "with open(\"EmilyDickinsonPoems.txt\", \"r\", encoding=\"utf-8\") as f:\n",
    "    raw_data = f.readlines()"
   ]
  },
  {
   "cell_type": "markdown",
   "metadata": {},
   "source": [
    "# Explore the dataset"
   ]
  },
  {
   "cell_type": "code",
   "execution_count": 3,
   "metadata": {},
   "outputs": [
    {
     "name": "stdout",
     "output_type": "stream",
     "text": [
      "Total Characters in Raw Text: 10703\n",
      "Sample of Raw Text:\n",
      "\n",
      "['\\ufeffThe Project Gutenberg eBook of Poems by Emily Dickinson, Three Series, Complete\\n', '    \\n', 'This ebook is for the use of anyone anywhere in the United States and\\n', 'most other parts of the world at no cost and with almost no restrictions\\n', 'whatsoever. You may copy it, give it away or re-use it under the terms\\n', 'of the Project Gutenberg License included with this ebook or online\\n', 'at www.gutenberg.org. If you are not located in the United States,\\n', 'you will have to check the laws of the country where you are located\\n', 'before using this eBook.\\n', '\\n', 'Title: Poems by Emily Dickinson, Three Series, Complete\\n', '\\n', 'Author: Emily Dickinson\\n', '\\n', 'Release date: May 1, 2004 [eBook #12242]\\n', '                Most recently updated: December 14, 2020\\n', '\\n', 'Language: English\\n', '\\n', 'Credits: Produced by Jim Tinsley <jtinsley@pobox.com>\\n', '\\n', '\\n', '*** START OF THE PROJECT GUTENBERG EBOOK POEMS BY EMILY DICKINSON, THREE SERIES, COMPLETE ***\\n', '\\n', '\\n', '\\n', '\\n', 'Produced by Jim Tinsley <jtinsley@pobox.com>\\n', '\\n', '\\n', '\\n', '\\n', '\\n', 'POEMS\\n', '\\n', 'by EMILY DICKINSON\\n', '\\n', '\\n', '\\n', '\\n', 'Edited by two of her friends\\n', '\\n', 'MABEL LOOMIS TODD and T.W. HIGGINSON\\n', '\\n', '\\n', '\\n', '\\n', 'PREFACE.\\n', '\\n', 'The verses of Emily Dickinson belong emphatically to what Emerson\\n', 'long since called \"the Poetry of the Portfolio,\"--something produced\\n', 'absolutely without the thought of publication, and solely by way of\\n', \"expression of the writer's own mind. Such verse must inevitably\\n\", 'forfeit whatever advantage lies in the discipline of public criticism\\n', 'and the enforced conformity to accepted ways. On the other hand, it\\n', 'may often gain something through the habit of freedom and the\\n', 'unconventional utterance of daring thoughts. In the case of the\\n', 'present author, there was absolutely no choice in the matter; she\\n', 'must write thus, or not at all. A recluse by temperament and habit,\\n', 'literally spending years without setting her foot beyond the\\n', 'doorstep, and many more years during which her walks were strictly\\n', \"limited to her father's grounds, she habitually concealed her mind,\\n\", 'like her person, from all but a very few friends; and it was with\\n', 'great difficulty that she was persuaded to print, during her\\n', 'lifetime, three or four poems.  Yet she wrote verses in great\\n', 'abundance; and though brought curiously indifferent to all\\n', 'conventional rules, had yet a rigorous literary standard of her own,\\n', 'and often altered a word many times to suit an ear which had its own\\n', 'tenacious fastidiousness.\\n', '\\n', 'Miss Dickinson was born in Amherst, Mass., Dec. 10, 1830, and died\\n', 'there May 15, 1886. Her father, Hon. Edward Dickinson, was the\\n', 'leading lawyer of Amherst, and was treasurer of the well-known\\n', 'college there situated. It was his custom once a year to hold a large\\n', 'reception at his house, attended by all the families connected with\\n', 'the institution and by the leading people of the town. On these\\n', 'occasions his daughter Emily emerged from her wonted retirement and\\n', 'did her part as gracious hostess; nor would any one have known from\\n', 'her manner, I have been told, that this was not a daily occurrence.\\n', 'The annual occasion once past, she withdrew again into her seclusion,\\n', 'and except for a very few friends was as invisible to the world as if\\n', 'she had dwelt in a nunnery.  For myself, although I had corresponded\\n', 'with her for many years, I saw her but twice face to face, and\\n', 'brought away the impression of something as unique and remote as\\n', 'Undine or Mignon or Thekla.\\n', '\\n', 'This selection from her poems is published to meet the desire of her\\n', 'personal friends, and especially of her surviving sister. It is\\n', 'believed that the thoughtful reader will find in these pages a\\n', 'quality more suggestive of the poetry of William Blake than of\\n', 'anything to be elsewhere found,--flashes of wholly original and\\n', 'profound insight into nature and life; words and phrases exhibiting\\n', 'an extraordinary vividness of descriptive and imaginative power, yet\\n', 'often set in a seemingly whimsical or even rugged frame. They are\\n', 'here published as they were written, with very few and superficial\\n', 'changes; although it is fair to say that the titles have been\\n', 'assigned, almost invariably, by the editors. In many cases these\\n', 'verses will seem to the reader like poetry torn up by the roots, with\\n', 'rain and dew and earth still clinging to them, giving a freshness and\\n', 'a fragrance not otherwise to be conveyed.  In other cases, as in the\\n', 'few poems of shipwreck or of mental conflict, we can only wonder at\\n', 'the gift of vivid imagination by which this recluse woman can\\n', 'delineate, by a few touches, the very crises of physical or mental\\n', 'struggle. And sometimes again we catch glimpses of a lyric strain,\\n', 'sustained perhaps but for a line or two at a time, and making the\\n', 'reader regret its sudden cessation. But the main quality of these\\n', 'poems is that of extraordinary grasp and insight, uttered with an\\n', 'uneven vigor sometimes exasperating, seemingly wayward, but really\\n', \"unsought and inevitable.  After all, when a thought takes one's\\n\", 'breath away, a lesson on grammar seems an impertinence. As Ruskin\\n', 'wrote in his earlier and better days, \"No weight nor mass nor beauty\\n', 'of execution can outweigh one grain or fragment of thought.\"\\n', '\\n', '            ---Thomas Wentworth Higginson\\n', '\\n', '\\n', '\\n', '\\n', '\\n', '\\n', '\\n', \"TRANSCRIBER'S NOTE\\n\", '\\n', \"As is well documented, Emily Dickinson's poems were edited in these\\n\", 'early editions by her friends, better to fit the conventions of the\\n', 'times. In particular, her dashes, often small enough to appear\\n', 'as dots, became commas and semi-colons.\\n', '\\n', 'In the second series of poems published, a facsimile of her\\n', 'handwritten poem which her editors titled \"Renunciation\" is given,\\n', 'and I here transcribe that manuscript as faithfully as I can,\\n', 'showing _underlined_ words thus.\\n', '\\n', '\\n', \"There came a day - at Summer's full -\\n\", 'Entirely for me -\\n', 'I thought that such were for the Saints -\\n', 'Where Resurrections - be -\\n', '\\n', 'The sun - as common - went abroad -\\n', 'The flowers - accustomed - blew,\\n', 'As if no soul - that solstice passed -\\n', 'Which maketh all things - new -\\n', '\\n', 'The time was scarce profaned - by speech -\\n', 'The falling of a word\\n', 'Was needless - as at Sacrament -\\n', 'The _Wardrobe_ - of our Lord!\\n', '\\n', 'Each was to each - the sealed church -\\n', 'Permitted to commune -  _this_ time -\\n', 'Lest we too awkward show\\n', 'At Supper of \"the Lamb.\"\\n', '\\n', 'The hours slid fast - as hours will -\\n', 'Clutched tight - by greedy hands -\\n', 'So - faces on two Decks look back -\\n', 'Bound to _opposing_ lands.\\n', '\\n', 'And so, when all the time had leaked,\\n', 'Without external sound,\\n', \"Each bound the other's Crucifix -\\n\", 'We gave no other bond -\\n', '\\n', 'Sufficient troth - that we shall _rise_,\\n', 'Deposed - at length the Grave -\\n', 'To that new marriage -\\n', '_Justified_ - through Calvaries - of Love!\\n', '\\n', '\\n', 'From the handwriting, it is not always clear which are dashes,\\n', 'which are commas and which are periods, nor it is entirely\\n', 'clear which initial letters are capitalized.\\n', '\\n', 'However, this transcription may be compared with the edited\\n', 'version in the main text to get a flavor of the changes made\\n', 'in these early editions.\\n', '\\n', '      ---JT\\n', '\\n', '\\n', '\\n', '\\n', '\\n', '\\n', '\\n', '\\n', '\\n', '\\n', '    This is my letter to the world,\\n', '       That never wrote to me, --\\n', '    The simple news that Nature told,\\n', '       With tender majesty.\\n', '\\n', '    Her message is committed\\n', '       To hands I cannot see;\\n', '    For love of her, sweet countrymen,\\n', '       Judge tenderly of me!\\n', '\\n', '\\n', '\\n', '\\n', '\\n', '\\n', '\\n', '\\n', '\\n', '\\n', 'I. LIFE.\\n', '\\n', '\\n', 'I.\\n', '\\n', 'SUCCESS.\\n', '\\n', '[Published in \"A Masque of Poets\"\\n', 'at the request of \"H.H.,\" the author\\'s\\n', 'fellow-townswoman and friend.]\\n', '\\n', 'Success is counted sweetest\\n', \"By those who ne'er succeed.\\n\", 'To comprehend a nectar\\n', 'Requires sorest need.\\n', '\\n', 'Not one of all the purple host\\n', 'Who took the flag to-day\\n', 'Can tell the definition,\\n', 'So clear, of victory,\\n', '\\n', 'As he, defeated, dying,\\n', 'On whose forbidden ear\\n', 'The distant strains of triumph\\n', 'Break, agonized and clear!\\n', '\\n', '\\n', '\\n', '\\n', '\\n', 'II.\\n', '\\n', 'Our share of night to bear,\\n', 'Our share of morning,\\n', 'Our blank in bliss to fill,\\n', 'Our blank in scorning.\\n', '\\n', 'Here a star, and there a star,\\n', 'Some lose their way.\\n', 'Here a mist, and there a mist,\\n', 'Afterwards -- day!\\n', '\\n', '\\n', '\\n', '\\n', '\\n', 'III.\\n', '\\n', 'ROUGE ET NOIR.\\n', '\\n', 'Soul, wilt thou toss again?\\n', 'By just such a hazard\\n', 'Hundreds have lost, indeed,\\n', 'But tens have won an all.\\n', '\\n', \"Angels' breathless ballot\\n\", 'Lingers to record thee;\\n', 'Imps in eager caucus\\n', 'Raffle for my soul.\\n', '\\n', '\\n', '\\n', '\\n', '\\n', 'IV.\\n', '\\n', 'ROUGE GAGNE.\\n', '\\n', \"'T is so much joy! 'T is so much joy!\\n\", 'If I should fail, what poverty!\\n', 'And yet, as poor as I\\n', 'Have ventured all upon a throw;\\n', 'Have gained! Yes! Hesitated so\\n', 'This side the victory!\\n', '\\n', 'Life is but life, and death but death!\\n', 'Bliss is but bliss, and breath but breath!\\n', 'And if, indeed, I fail,\\n', 'At least to know the worst is sweet.\\n', 'Defeat means nothing but defeat,\\n', 'No drearier can prevail!\\n', '\\n', 'And if I gain, -- oh, gun at sea,\\n', 'Oh, bells that in the steeples be,\\n', 'At first repeat it slow!\\n', 'For heaven is a different thing\\n', 'Conjectured, and waked sudden in,\\n', \"And might o'erwhelm me so!\\n\", '\\n', '\\n', '\\n', '\\n', '\\n', 'V.\\n', '\\n', 'Glee! The great storm is over!\\n', 'Four have recovered the land;\\n', 'Forty gone down together\\n', 'Into the boiling sand.\\n', '\\n', 'Ring, for the scant salvation!\\n', 'Toll, for the bonnie souls, --\\n', 'Neighbor and friend and bridegroom,\\n', 'Spinning upon the shoals!\\n', '\\n', 'How they will tell the shipwreck\\n', 'When winter shakes the door,\\n', 'Till the children ask, \"But the forty?\\n', 'Did they come back no more?\"\\n', '\\n', 'Then a silence suffuses the story,\\n', \"And a softness the teller's eye;\\n\", 'And the children no further question,\\n', 'And only the waves reply.\\n', '\\n', '\\n', '\\n', '\\n', '\\n', 'VI.\\n', '\\n', 'If I can stop one heart from breaking,\\n', 'I shall not live in vain;\\n', 'If I can ease one life the aching,\\n', 'Or cool one pain,\\n', 'Or help one fainting robin\\n', 'Unto his nest again,\\n', 'I shall not live in vain.\\n', '\\n', '\\n', '\\n', '\\n', '\\n', 'VII.\\n', '\\n', 'ALMOST!\\n', '\\n', 'Within my reach!\\n', 'I could have touched!\\n', 'I might have chanced that way!\\n', 'Soft sauntered through the village,\\n', 'Sauntered as soft away!\\n', 'So unsuspected violets\\n', 'Within the fields lie low,\\n', 'Too late for striving fingers\\n', 'That passed, an hour ago.\\n', '\\n', '\\n', '\\n', '\\n', '\\n', 'VIII.\\n', '\\n', 'A wounded deer leaps highest,\\n', \"I've heard the hunter tell;\\n\", \"'T is but the ecstasy of death,\\n\", 'And then the brake is still.\\n', '\\n', 'The smitten rock that gushes,\\n', 'The trampled steel that springs;\\n', 'A cheek is always redder\\n', 'Just where the hectic stings!\\n', '\\n', 'Mirth is the mail of anguish,\\n', 'In which it cautions arm,\\n', 'Lest anybody spy the blood\\n', 'And \"You\\'re hurt\" exclaim!\\n', '\\n', '\\n', '\\n', '\\n', '\\n', 'IX.\\n', '\\n', 'The heart asks pleasure first,\\n', 'And then, excuse from pain;\\n', 'And then, those little anodynes\\n', 'That deaden suffering;\\n', '\\n', 'And then, to go to sleep;\\n', 'And then, if it should be\\n', 'The will of its Inquisitor,\\n', 'The liberty to die.\\n', '\\n', '\\n', '\\n', '\\n', '\\n', 'X.\\n', '\\n', 'IN A LIBRARY.\\n', '\\n', \"A precious, mouldering pleasure 't is\\n\", 'To meet an antique book,\\n', 'In just the dress his century wore;\\n', 'A privilege, I think,\\n', '\\n', 'His venerable hand to take,\\n', 'And warming in our own,\\n', 'A passage back, or two, to make\\n', 'To times when he was young.\\n', '\\n', 'His quaint opinions to inspect,\\n', 'His knowledge to unfold\\n', 'On what concerns our mutual mind,\\n', 'The literature of old;\\n', '\\n', 'What interested scholars most,\\n', 'What competitions ran\\n', 'When Plato was a certainty.\\n', 'And Sophocles a man;\\n', '\\n', 'When Sappho was a living girl,\\n', 'And Beatrice wore\\n', 'The gown that Dante deified.\\n', 'Facts, centuries before,\\n', '\\n', 'He traverses familiar,\\n', 'As one should come to town\\n', 'And tell you all your dreams were true;\\n', 'He lived where dreams were sown.\\n', '\\n', 'His presence is enchantment,\\n', 'You beg him not to go;\\n', 'Old volumes shake their vellum heads\\n', 'And tantalize, just so.\\n', '\\n', '\\n', '\\n', '\\n', '\\n', 'XI.\\n', '\\n', 'Much madness is divinest sense\\n', 'To a discerning eye;\\n', 'Much sense the starkest madness.\\n', \"'T is the majority\\n\", 'In this, as all, prevails.\\n', 'Assent, and you are sane;\\n', \"Demur, -- you're straightway dangerous,\\n\", 'And handled with a chain.\\n', 'XII.\\n', '\\n', 'I asked no other thing,\\n', 'No other was denied.\\n', 'I offered Being for it;\\n', 'The mighty merchant smiled.\\n', '\\n', 'Brazil? He twirled a button,\\n', 'Without a glance my way:\\n', '\"But, madam, is there nothing else\\n', 'That we can show to-day?\"\\n', '\\n', '\\n', '\\n', '\\n', '\\n', 'XIII.\\n', '\\n', 'EXCLUSION.\\n', '\\n', 'The soul selects her own society,\\n', 'Then shuts the door;\\n', 'On her divine majority\\n', 'Obtrude no more.\\n', '\\n', \"Unmoved, she notes the chariot's pausing\\n\", 'At her low gate;\\n', 'Unmoved, an emperor is kneeling\\n', 'Upon her mat.\\n', '\\n', \"I've known her from an ample nation\\n\", 'Choose one;\\n', 'Then close the valves of her attention\\n', 'Like stone.\\n', '\\n', '\\n', '\\n', '\\n', '\\n', 'XIV.\\n', '\\n', 'THE SECRET.\\n', '\\n', 'Some things that fly there be, --\\n', 'Birds, hours, the bumble-bee:\\n', 'Of these no elegy.\\n', '\\n', 'Some things that stay there be, --\\n', 'Grief, hills, eternity:\\n', 'Nor this behooveth me.\\n', '\\n', 'There are, that resting, rise.\\n', 'Can I expound the skies?\\n', 'How still the riddle lies!\\n', '\\n', '\\n', '\\n', '\\n', '\\n', 'XV.\\n', '\\n', 'THE LONELY HOUSE.\\n', '\\n', 'I know some lonely houses off the road\\n', \"A robber 'd like the look of, --\\n\", 'Wooden barred,\\n', 'And windows hanging low,\\n', 'Inviting to\\n', 'A portico,\\n', 'Where two could creep:\\n', 'One hand the tools,\\n', 'The other peep\\n', \"To make sure all's asleep.\\n\", 'Old-fashioned eyes,\\n', 'Not easy to surprise!\\n', '\\n', \"How orderly the kitchen 'd look by night,\\n\", 'With just a clock, --\\n', 'But they could gag the tick,\\n', \"And mice won't bark;\\n\", \"And so the walls don't tell,\\n\", 'None will.\\n', '\\n', 'A pair of spectacles ajar just stir --\\n', \"An almanac's aware.\\n\", 'Was it the mat winked,\\n', 'Or a nervous star?\\n', 'The moon slides down the stair\\n', \"To see who's there.\\n\", '\\n', \"There's plunder, -- where?\\n\", 'Tankard, or spoon,\\n', 'Earring, or stone,\\n', 'A watch, some ancient brooch\\n', 'To match the grandmamma,\\n', 'Staid sleeping there.\\n', '\\n', 'Day rattles, too,\\n', \"Stealth's slow;\\n\", 'The sun has got as far\\n', 'As the third sycamore.\\n', 'Screams chanticleer,\\n', '\"Who\\'s there?\"\\n', 'And echoes, trains away,\\n', 'Sneer -- \"Where?\"\\n', 'While the old couple, just astir,\\n', 'Fancy the sunrise left the door ajar!\\n', '\\n', '\\n', '\\n', '\\n', '\\n', 'XVI.\\n', '\\n', 'To fight aloud is very brave,\\n', 'But gallanter, I know,\\n', 'Who charge within the bosom,\\n', 'The cavalry of woe.\\n', '\\n', 'Who win, and nations do not see,\\n', 'Who fall, and none observe,\\n', 'Whose dying eyes no country\\n', 'Regards with patriot love.\\n', '\\n', 'We trust, in plumed procession,\\n', 'For such the angels go,\\n', 'Rank after rank, with even feet\\n', 'And uniforms of snow.\\n', '\\n', '\\n', '\\n', '\\n', '\\n', 'XVII.\\n', '\\n', 'DAWN.\\n', '\\n', 'When night is almost done,\\n', 'And sunrise grows so near\\n', 'That we can touch the spaces,\\n', \"It 's time to smooth the hair\\n\", '\\n', 'And get the dimples ready,\\n', 'And wonder we could care\\n', 'For that old faded midnight\\n', 'That frightened but an hour.\\n', '\\n', '\\n', '\\n', '\\n', '\\n', 'XVIII.\\n', '\\n', 'THE BOOK OF MARTYRS.\\n', '\\n', 'Read, sweet, how others strove,\\n', 'Till we are stouter;\\n', 'What they renounced,\\n', 'Till we are less afraid;\\n', 'How many times they bore\\n', 'The faithful witness,\\n', 'Till we are helped,\\n', 'As if a kingdom cared!\\n', '\\n', 'Read then of faith\\n', 'That shone above the fagot;\\n', 'Clear strains of hymn\\n', 'The river could not drown;\\n', 'Brave names of men\\n', 'And celestial women,\\n', 'Passed out of record\\n', 'Into renown!\\n', '\\n', '\\n', '\\n', '\\n', '\\n', 'XIX.\\n', '\\n', 'THE MYSTERY OF PAIN.\\n', '\\n', 'Pain has an element of blank;\\n', 'It cannot recollect\\n', 'When it began, or if there were\\n', 'A day when it was not.\\n', '\\n', 'It has no future but itself,\\n', 'Its infinite realms contain\\n', 'Its past, enlightened to perceive\\n', 'New periods of pain.\\n', '\\n', '\\n', '\\n', '\\n', '\\n', 'XX.\\n', '\\n', 'I taste a liquor never brewed,\\n', 'From tankards scooped in pearl;\\n', 'Not all the vats upon the Rhine\\n', 'Yield such an alcohol!\\n', '\\n', 'Inebriate of air am I,\\n', 'And debauchee of dew,\\n', 'Reeling, through endless summer days,\\n', 'From inns of molten blue.\\n', '\\n', 'When landlords turn the drunken bee\\n', \"Out of the foxglove's door,\\n\", 'When butterflies renounce their drams,\\n', 'I shall but drink the more!\\n', '\\n', 'Till seraphs swing their snowy hats,\\n', 'And saints to windows run,\\n', 'To see the little tippler\\n', 'Leaning against the sun!\\n', '\\n', '\\n', '\\n', '\\n', '\\n', 'XXI.\\n', '\\n', 'A BOOK.\\n', '\\n', 'He ate and drank the precious words,\\n', 'His spirit grew robust;\\n', 'He knew no more that he was poor,\\n', 'Nor that his frame was dust.\\n', 'He danced along the dingy days,\\n', 'And this bequest of wings\\n', 'Was but a book. What liberty\\n', 'A loosened spirit brings!\\n', '\\n', '\\n', '\\n', '\\n', '\\n', 'XXII.\\n', '\\n', 'I had no time to hate, because\\n', 'The grave would hinder me,\\n', 'And life was not so ample I\\n', 'Could finish enmity.\\n', '\\n', 'Nor had I time to love; but since\\n', 'Some industry must be,\\n', 'The little toil of love, I thought,\\n', 'Was large enough for me.\\n', '\\n', '\\n', '\\n', '\\n', '\\n', 'XXIII.\\n', '\\n', 'UNRETURNING.\\n', '\\n', \"'T was such a little, little boat\\n\", 'That toddled down the bay!\\n', \"'T was such a gallant, gallant sea\\n\", 'That beckoned it away!\\n', '\\n', \"'T was such a greedy, greedy wave\\n\", 'That licked it from the coast;\\n', 'Nor ever guessed the stately sails\\n', 'My little craft was lost!\\n', '\\n', '\\n', '\\n', '\\n', '\\n', 'XXIV.\\n', '\\n', 'Whether my bark went down at sea,\\n', 'Whether she met with gales,\\n', 'Whether to isles enchanted\\n', 'She bent her docile sails;\\n', '\\n', 'By what mystic mooring\\n', 'She is held to-day, --\\n', 'This is the errand of the eye\\n', 'Out upon the bay.\\n', '\\n', '\\n', '\\n', '\\n', '\\n', 'XXV.\\n', '\\n', 'Belshazzar had a letter, --\\n', 'He never had but one;\\n', \"Belshazzar's correspondent\\n\", 'Concluded and begun\\n', 'In that immortal copy\\n', 'The conscience of us all\\n', 'Can read without its glasses\\n', \"On revelation's wall.\\n\", '\\n', '\\n', '\\n', '\\n', '\\n', 'XXVI.\\n', '\\n', 'The brain within its groove\\n', 'Runs evenly and true;\\n', 'But let a splinter swerve,\\n', \"'T were easier for you\\n\", 'To put the water back\\n', 'When floods have slit the hills,\\n', 'And scooped a turnpike for themselves,\\n', 'And blotted out the mills!\\n', '\\n', '\\n', '\\n', '\\n', '\\n', '\\n', 'II. LOVE.\\n', '\\n', '\\n', 'I.\\n', '\\n', 'MINE.\\n', '\\n', 'Mine by the right of the white election!\\n', 'Mine by the royal seal!\\n', 'Mine by the sign in the scarlet prison\\n', 'Bars cannot conceal!\\n', '\\n', 'Mine, here in vision and in veto!\\n', \"Mine, by the grave's repeal\\n\", 'Titled, confirmed, -- delirious charter!\\n', 'Mine, while the ages steal!\\n', '\\n', '\\n', '\\n', '\\n', '\\n', 'II.\\n', '\\n', 'BEQUEST.\\n', '\\n', 'You left me, sweet, two legacies, --\\n', 'A legacy of love\\n', 'A Heavenly Father would content,\\n', 'Had He the offer of;\\n', '\\n', 'You left me boundaries of pain\\n', 'Capacious as the sea,\\n', 'Between eternity and time,\\n', 'Your consciousness and me.\\n', '\\n', '\\n', '\\n', '\\n', '\\n', 'III.\\n', '\\n', 'Alter? When the hills do.\\n', 'Falter? When the sun\\n', 'Question if his glory\\n', 'Be the perfect one.\\n', '\\n', 'Surfeit? When the daffodil\\n', 'Doth of the dew:\\n', 'Even as herself, O friend!\\n', 'I will of you!\\n', '\\n', '\\n', '\\n', '\\n', '\\n', 'IV.\\n', '\\n', 'SUSPENSE.\\n', '\\n', 'Elysium is as far as to\\n', 'The very nearest room,\\n', 'If in that room a friend await\\n', 'Felicity or doom.\\n', '\\n', 'What fortitude the soul contains,\\n', 'That it can so endure\\n', 'The accent of a coming foot,\\n', 'The opening of a door!\\n', '\\n', '\\n', '\\n', '\\n', '\\n', 'V.\\n', '\\n', 'SURRENDER.\\n', '\\n', 'Doubt me, my dim companion!\\n', 'Why, God would be content\\n', 'With but a fraction of the love\\n', 'Poured thee without a stint.\\n', 'The whole of me, forever,\\n', 'What more the woman can, --\\n', 'Say quick, that I may dower thee\\n', 'With last delight I own!\\n', '\\n', 'It cannot be my spirit,\\n', 'For that was thine before;\\n', 'I ceded all of dust I knew, --\\n', 'What opulence the more\\n', 'Had I, a humble maiden,\\n', 'Whose farthest of degree\\n', 'Was that she might,\\n', 'Some distant heaven,\\n', 'Dwell timidly with thee!\\n', '\\n', '\\n', '\\n', '\\n', '\\n', 'VI.\\n', '\\n', 'If you were coming in the fall,\\n', \"I'd brush the summer by\\n\", 'With half a smile and half a spurn,\\n', 'As housewives do a fly.\\n', '\\n', 'If I could see you in a year,\\n', \"I'd wind the months in balls,\\n\", 'And put them each in separate drawers,\\n', 'Until their time befalls.\\n', '\\n', 'If only centuries delayed,\\n', \"I'd count them on my hand,\\n\", 'Subtracting till my fingers dropped\\n', \"Into Van Diemen's land.\\n\", '\\n', 'If certain, when this life was out,\\n', 'That yours and mine should be,\\n', \"I'd toss it yonder like a rind,\\n\", 'And taste eternity.\\n', '\\n', 'But now, all ignorant of the length\\n', \"Of time's uncertain wing,\\n\", 'It goads me, like the goblin bee,\\n', 'That will not state its sting.\\n', '\\n', '\\n', '\\n', '\\n', '\\n', 'VII.\\n', '\\n', 'WITH A FLOWER.\\n', '\\n', 'I hide myself within my flower,\\n', 'That wearing on your breast,\\n', 'You, unsuspecting, wear me too --\\n', 'And angels know the rest.\\n', '\\n', 'I hide myself within my flower,\\n', 'That, fading from your vase,\\n', 'You, unsuspecting, feel for me\\n', 'Almost a loneliness.\\n', '\\n', '\\n', '\\n', '\\n', '\\n', 'VIII.\\n', '\\n', 'PROOF.\\n', '\\n', 'That I did always love,\\n', 'I bring thee proof:\\n', 'That till I loved\\n', 'I did not love enough.\\n', '\\n', 'That I shall love alway,\\n', 'I offer thee\\n', 'That love is life,\\n', 'And life hath immortality.\\n', '\\n', 'This, dost thou doubt, sweet?\\n', 'Then have I\\n', 'Nothing to show\\n', 'But Calvary.\\n', '\\n', '\\n', '\\n', '\\n', '\\n', 'IX.\\n', '\\n', 'Have you got a brook in your little heart,\\n', 'Where bashful flowers blow,\\n', 'And blushing birds go down to drink,\\n', 'And shadows tremble so?\\n', '\\n', 'And nobody knows, so still it flows,\\n', 'That any brook is there;\\n', 'And yet your little draught of life\\n', 'Is daily drunken there.\\n', '\\n', 'Then look out for the little brook in March,\\n', 'When the rivers overflow,\\n', 'And the snows come hurrying from the hills,\\n', 'And the bridges often go.\\n', '\\n', 'And later, in August it may be,\\n', 'When the meadows parching lie,\\n', 'Beware, lest this little brook of life\\n', 'Some burning noon go dry!\\n', '\\n', '\\n', '\\n', '\\n', '\\n', 'X.\\n', '\\n', 'TRANSPLANTED.\\n', '\\n', 'As if some little Arctic flower,\\n', 'Upon the polar hem,\\n', 'Went wandering down the latitudes,\\n', 'Until it puzzled came\\n', 'To continents of summer,\\n', 'To firmaments of sun,\\n', 'To strange, bright crowds of flowers,\\n', 'And birds of foreign tongue!\\n', 'I say, as if this little flower\\n', 'To Eden wandered in --\\n', 'What then? Why, nothing, only,\\n', 'Your inference therefrom!\\n', '\\n', '\\n', '\\n', '\\n', '\\n', 'XI.\\n', '\\n', 'THE OUTLET.\\n', '\\n', 'My river runs to thee:\\n', 'Blue sea, wilt welcome me?\\n', '\\n', 'My river waits reply.\\n', 'Oh sea, look graciously!\\n', '\\n', \"I'll fetch thee brooks\\n\", 'From spotted nooks, --\\n', '\\n']\n"
     ]
    }
   ],
   "source": [
    "# Print basic stats\n",
    "print(\"Total Characters in Raw Text:\", len(raw_data))\n",
    "print(\"Sample of Raw Text:\\n\")\n",
    "print(raw_data[:1000])"
   ]
  },
  {
   "cell_type": "markdown",
   "metadata": {},
   "source": [
    "# Data Preprocssing"
   ]
  },
  {
   "cell_type": "code",
   "execution_count": 4,
   "metadata": {},
   "outputs": [],
   "source": [
    "# Poems start from line 209\n",
    "poem_lines = raw_data[209:]"
   ]
  },
  {
   "cell_type": "code",
   "execution_count": 5,
   "metadata": {},
   "outputs": [],
   "source": [
    "# Clean up the text\n",
    "poems = []\n",
    "for line in poem_lines:\n",
    "    stripped = line.strip()\n",
    "    if stripped and not stripped.isupper() and not stripped.isdigit():\n",
    "        poems.append(stripped)"
   ]
  },
  {
   "cell_type": "code",
   "execution_count": 6,
   "metadata": {},
   "outputs": [],
   "source": [
    "# Join and lower case\n",
    "text = \" \".join(poems).lower()"
   ]
  },
  {
   "cell_type": "code",
   "execution_count": 7,
   "metadata": {},
   "outputs": [
    {
     "name": "stdout",
     "output_type": "stream",
     "text": [
      "Sample text:\n",
      " [published in \"a masque of poets\" at the request of \"h.h.,\" the author's fellow-townswoman and friend.] success is counted sweetest by those who ne'er succeed. to comprehend a nectar requires sorest need. not one of all the purple host who took the flag to-day can tell the definition, so clear, of victory, as he, defeated, dying, on whose forbidden ear the distant strains of triumph break, agonized and clear! our share of night to bear, our share of morning, our blank in bliss to fill, our blank in scorning. here a star, and there a star, some lose their way. here a mist, and there a mist, afterwards -- day! soul, wilt thou toss again? by just such a hazard hundreds have lost, indeed, but tens have won an all. angels' breathless ballot lingers to record thee; imps in eager caucus raffle for my soul. 't is so much joy! 't is so much joy! if i should fail, what poverty! and yet, as poor as i have ventured all upon a throw; have gained! yes! hesitated so this side the victory! life is but\n",
      "\n",
      "Total Characters in Corpus: 176343\n"
     ]
    }
   ],
   "source": [
    "# Print sample after cleaning\n",
    "print(\"Sample text:\\n\", text[:1000])\n",
    "print(\"\\nTotal Characters in Corpus:\", len(text))"
   ]
  },
  {
   "cell_type": "code",
   "execution_count": 8,
   "metadata": {},
   "outputs": [],
   "source": [
    "# Get unique characters in the dataset\n",
    "chars = sorted(set(text)) \n",
    "\n",
    "# Creating mappings\n",
    "char_to_index = {char: idx for idx, char in enumerate(chars)}\n",
    "index_to_char = {idx: char for idx, char in enumerate(chars)}"
   ]
  },
  {
   "cell_type": "code",
   "execution_count": 9,
   "metadata": {},
   "outputs": [
    {
     "name": "stdout",
     "output_type": "stream",
     "text": [
      "Unique characters: 64\n",
      "Sample character mappings: [(' ', 0), ('!', 1), ('\"', 2), ('$', 3), ('%', 4), (\"'\", 5), ('(', 6), (')', 7), ('*', 8), (',', 9), ('-', 10), ('.', 11), ('/', 12), ('0', 13), ('1', 14), ('2', 15), ('3', 16), ('4', 17), ('5', 18), ('6', 19), ('7', 20), ('8', 21), ('9', 22), (':', 23), (';', 24), ('?', 25), ('[', 26), (']', 27), ('_', 28), ('a', 29), ('b', 30), ('c', 31), ('d', 32), ('e', 33), ('f', 34), ('g', 35), ('h', 36), ('i', 37), ('j', 38), ('k', 39), ('l', 40), ('m', 41), ('n', 42), ('o', 43), ('p', 44), ('q', 45), ('r', 46), ('s', 47), ('t', 48), ('u', 49), ('v', 50), ('w', 51), ('x', 52), ('y', 53), ('z', 54), ('è', 55), ('ë', 56), ('—', 57), ('‘', 58), ('’', 59), ('“', 60), ('”', 61), ('•', 62), ('™', 63)]\n"
     ]
    }
   ],
   "source": [
    "print(f\"Unique characters: {len(chars)}\")\n",
    "print(f\"Sample character mappings: {list(char_to_index.items())[:100]}\")"
   ]
  },
  {
   "cell_type": "markdown",
   "metadata": {},
   "source": [
    "# Create training sequences"
   ]
  },
  {
   "cell_type": "code",
   "execution_count": 10,
   "metadata": {},
   "outputs": [],
   "source": [
    "SEQ_LENGTH = 100"
   ]
  },
  {
   "cell_type": "code",
   "execution_count": 11,
   "metadata": {},
   "outputs": [
    {
     "name": "stdout",
     "output_type": "stream",
     "text": [
      "Total sequences: 176243\n"
     ]
    }
   ],
   "source": [
    "inputs = []\n",
    "outputs = []\n",
    "\n",
    "for i in range(len(text) - SEQ_LENGTH):\n",
    "    inputs.append(text[i : i + SEQ_LENGTH])\n",
    "    outputs.append(text[i + SEQ_LENGTH])\n",
    "\n",
    "print(f\"Total sequences: {len(inputs)}\")"
   ]
  },
  {
   "cell_type": "code",
   "execution_count": 12,
   "metadata": {},
   "outputs": [],
   "source": [
    "# Convert text to numerical format\n",
    "X = np.array([[char_to_index[char] for char in seq] for seq in inputs])\n",
    "y = np.array([char_to_index[char] for char in outputs])"
   ]
  },
  {
   "cell_type": "code",
   "execution_count": 13,
   "metadata": {},
   "outputs": [
    {
     "name": "stdout",
     "output_type": "stream",
     "text": [
      "Using 176243 sequences for training\n",
      "X shape: (176243, 100), y shape: (176243,)\n"
     ]
    }
   ],
   "source": [
    "print(f\"Using {len(X)} sequences for training\")\n",
    "print(f\"X shape: {X.shape}, y shape: {y.shape}\")"
   ]
  },
  {
   "cell_type": "code",
   "execution_count": 14,
   "metadata": {},
   "outputs": [],
   "source": [
    "X = to_categorical(X, num_classes=len(chars))\n",
    "y = to_categorical(y, num_classes=len(chars))"
   ]
  },
  {
   "cell_type": "code",
   "execution_count": 15,
   "metadata": {},
   "outputs": [
    {
     "name": "stdout",
     "output_type": "stream",
     "text": [
      "New x shape (one-hot encoded): (176243, 100, 64)\n",
      "New y shape (one-hot encoded): (176243, 64)\n"
     ]
    }
   ],
   "source": [
    "print(f\"New x shape (one-hot encoded): {X.shape}\")\n",
    "print(f\"New y shape (one-hot encoded): {y.shape}\")"
   ]
  },
  {
   "cell_type": "markdown",
   "metadata": {},
   "source": [
    "# Build the model"
   ]
  },
  {
   "cell_type": "code",
   "execution_count": 16,
   "metadata": {},
   "outputs": [
    {
     "name": "stdout",
     "output_type": "stream",
     "text": [
      "WARNING:tensorflow:From C:\\Users\\qadee\\AppData\\Local\\Packages\\PythonSoftwareFoundation.Python.3.11_qbz5n2kfra8p0\\LocalCache\\local-packages\\Python311\\site-packages\\keras\\src\\layers\\rnn\\lstm.py:148: The name tf.executing_eagerly_outside_functions is deprecated. Please use tf.compat.v1.executing_eagerly_outside_functions instead.\n",
      "\n",
      "WARNING:tensorflow:From C:\\Users\\qadee\\AppData\\Local\\Packages\\PythonSoftwareFoundation.Python.3.11_qbz5n2kfra8p0\\LocalCache\\local-packages\\Python311\\site-packages\\keras\\src\\optimizers\\__init__.py:309: The name tf.train.Optimizer is deprecated. Please use tf.compat.v1.train.Optimizer instead.\n",
      "\n",
      "Model: \"sequential\"\n",
      "_________________________________________________________________\n",
      " Layer (type)                Output Shape              Param #   \n",
      "=================================================================\n",
      " lstm (LSTM)                 (None, 100, 256)          328704    \n",
      "                                                                 \n",
      " lstm_1 (LSTM)               (None, 256)               525312    \n",
      "                                                                 \n",
      " dense (Dense)               (None, 64)                16448     \n",
      "                                                                 \n",
      "=================================================================\n",
      "Total params: 870464 (3.32 MB)\n",
      "Trainable params: 870464 (3.32 MB)\n",
      "Non-trainable params: 0 (0.00 Byte)\n",
      "_________________________________________________________________\n"
     ]
    }
   ],
   "source": [
    "# Define RNN LSTM model\n",
    "model = Sequential([\n",
    "    LSTM(256, input_shape=(SEQ_LENGTH, len(chars)), return_sequences=True),\n",
    "    LSTM(256),\n",
    "    Dense(len(chars), activation=\"softmax\")\n",
    "])\n",
    "\n",
    "# Compile model\n",
    "model.compile(loss=\"categorical_crossentropy\", optimizer=\"adam\", metrics=[\"accuracy\"])\n",
    "\n",
    "# Print summary\n",
    "model.summary()"
   ]
  },
  {
   "cell_type": "markdown",
   "metadata": {},
   "source": [
    "# Train the model"
   ]
  },
  {
   "cell_type": "code",
   "execution_count": 17,
   "metadata": {},
   "outputs": [],
   "source": [
    "EPOCHS = 20\n",
    "BATCH_SIZE = 256"
   ]
  },
  {
   "cell_type": "code",
   "execution_count": 18,
   "metadata": {},
   "outputs": [
    {
     "name": "stdout",
     "output_type": "stream",
     "text": [
      "Epoch 1/20\n",
      "WARNING:tensorflow:From C:\\Users\\qadee\\AppData\\Local\\Packages\\PythonSoftwareFoundation.Python.3.11_qbz5n2kfra8p0\\LocalCache\\local-packages\\Python311\\site-packages\\keras\\src\\utils\\tf_utils.py:492: The name tf.ragged.RaggedTensorValue is deprecated. Please use tf.compat.v1.ragged.RaggedTensorValue instead.\n",
      "\n",
      "WARNING:tensorflow:From C:\\Users\\qadee\\AppData\\Local\\Packages\\PythonSoftwareFoundation.Python.3.11_qbz5n2kfra8p0\\LocalCache\\local-packages\\Python311\\site-packages\\keras\\src\\engine\\base_layer_utils.py:384: The name tf.executing_eagerly_outside_functions is deprecated. Please use tf.compat.v1.executing_eagerly_outside_functions instead.\n",
      "\n",
      "689/689 [==============================] - 482s 694ms/step - loss: 2.5309 - accuracy: 0.2849\n",
      "Epoch 2/20\n",
      "689/689 [==============================] - 456s 662ms/step - loss: 2.0504 - accuracy: 0.3960\n",
      "Epoch 3/20\n",
      "689/689 [==============================] - 444s 645ms/step - loss: 1.8748 - accuracy: 0.4399\n",
      "Epoch 4/20\n",
      "689/689 [==============================] - 445s 645ms/step - loss: 1.7618 - accuracy: 0.4696\n",
      "Epoch 5/20\n",
      "689/689 [==============================] - 452s 657ms/step - loss: 1.6752 - accuracy: 0.4916\n",
      "Epoch 6/20\n",
      "689/689 [==============================] - 452s 655ms/step - loss: 1.6003 - accuracy: 0.5114\n",
      "Epoch 7/20\n",
      "689/689 [==============================] - 446s 648ms/step - loss: 1.5346 - accuracy: 0.5293\n",
      "Epoch 8/20\n",
      "689/689 [==============================] - 465s 675ms/step - loss: 1.4730 - accuracy: 0.5455\n",
      "Epoch 9/20\n",
      "689/689 [==============================] - 473s 686ms/step - loss: 1.4146 - accuracy: 0.5622\n",
      "Epoch 10/20\n",
      "689/689 [==============================] - 472s 685ms/step - loss: 1.3580 - accuracy: 0.5783\n",
      "Epoch 11/20\n",
      "689/689 [==============================] - 468s 679ms/step - loss: 1.3018 - accuracy: 0.5941\n",
      "Epoch 12/20\n",
      "689/689 [==============================] - 458s 665ms/step - loss: 1.2465 - accuracy: 0.6116\n",
      "Epoch 13/20\n",
      "689/689 [==============================] - 457s 663ms/step - loss: 1.1916 - accuracy: 0.6272\n",
      "Epoch 14/20\n",
      "689/689 [==============================] - 446s 647ms/step - loss: 1.1388 - accuracy: 0.6433\n",
      "Epoch 15/20\n",
      "689/689 [==============================] - 444s 645ms/step - loss: 1.0878 - accuracy: 0.6603\n",
      "Epoch 16/20\n",
      "689/689 [==============================] - 448s 650ms/step - loss: 1.0348 - accuracy: 0.6752\n",
      "Epoch 17/20\n",
      "689/689 [==============================] - 448s 650ms/step - loss: 0.9831 - accuracy: 0.6926\n",
      "Epoch 18/20\n",
      "689/689 [==============================] - 446s 647ms/step - loss: 0.9350 - accuracy: 0.7071\n",
      "Epoch 19/20\n",
      "689/689 [==============================] - 445s 646ms/step - loss: 0.8854 - accuracy: 0.7229\n",
      "Epoch 20/20\n",
      "689/689 [==============================] - 445s 646ms/step - loss: 0.8403 - accuracy: 0.7362\n"
     ]
    }
   ],
   "source": [
    "history = model.fit(\n",
    "    X, \n",
    "    y, \n",
    "    batch_size=BATCH_SIZE, \n",
    "    epochs=EPOCHS\n",
    ")"
   ]
  },
  {
   "cell_type": "code",
   "execution_count": 19,
   "metadata": {},
   "outputs": [
    {
     "name": "stdout",
     "output_type": "stream",
     "text": [
      "Final Training Accuracy: 0.7362334728240967\n"
     ]
    }
   ],
   "source": [
    "print(\"Final Training Accuracy:\", history.history['accuracy'][-1])"
   ]
  },
  {
   "cell_type": "code",
   "execution_count": 20,
   "metadata": {},
   "outputs": [
    {
     "data": {
      "image/png": "[encoded data removed]",
      "text/plain": [
       "<Figure size 640x480 with 1 Axes>"
      ]
     },
     "metadata": {},
     "output_type": "display_data"
    }
   ],
   "source": [
    "plt.plot(history.history['accuracy'])\n",
    "plt.title(\"Model Accuracy\")\n",
    "plt.xlabel(\"Epoch\")\n",
    "plt.ylabel(\"Accuracy\")\n",
    "plt.grid(True)\n",
    "plt.show()"
   ]
  },
  {
   "cell_type": "code",
   "execution_count": 21,
   "metadata": {},
   "outputs": [
    {
     "data": {
      "image/png": "[encoded data removed]",
      "text/plain": [
       "<Figure size 640x480 with 1 Axes>"
      ]
     },
     "metadata": {},
     "output_type": "display_data"
    }
   ],
   "source": [
    "plt.plot(history.history['loss'], label='Loss', color='red')\n",
    "plt.title(\"Model Loss\")\n",
    "plt.xlabel(\"Epoch\")\n",
    "plt.ylabel(\"Loss\")\n",
    "plt.legend()\n",
    "plt.grid(True)\n",
    "plt.show()"
   ]
  },
  {
   "cell_type": "markdown",
   "metadata": {},
   "source": [
    "# Testing the model"
   ]
  },
  {
   "cell_type": "code",
   "execution_count": null,
   "metadata": {},
   "outputs": [],
   "source": [
    "# def generate_text(model, start_string, num_generate=300, temperature=1.0):\n",
    "#     # Convert start string to integers\n",
    "#     input_indices = [char_to_index.get(char, 0) for char in start_string.lower()]\n",
    "#     input_indices = tf.expand_dims(input_indices, 0)\n",
    "\n",
    "#     # Store the generated characters\n",
    "#     text_generated = []\n",
    "\n",
    "#     for i in range(num_generate):\n",
    "#         # Predict the next character probabilities\n",
    "#         predictions = model(input_indices)\n",
    "#         predictions = tf.squeeze(predictions, 0) \n",
    "\n",
    "#         # Focus only on the last prediction\n",
    "#         predictions = predictions[-1] / temperature\n",
    "\n",
    "#         # Sample from the distribution\n",
    "#         predicted_id = tf.random.categorical(tf.expand_dims(predictions, 0), num_samples=1).numpy()[0][0]\n",
    "\n",
    "#         # Add predicted char to generated text\n",
    "#         text_generated.append(index_to_char[predicted_id])\n",
    "\n",
    "#         # Update input with the predicted_id\n",
    "#         input_indices = tf.expand_dims([predicted_id], 0)\n",
    "\n",
    "#     return start_string + ''.join(text_generated)"
   ]
  },
  {
   "cell_type": "code",
   "execution_count": null,
   "metadata": {},
   "outputs": [],
   "source": [
    "# seed_text = \"The sky was dark\"\n",
    "# generated = generate_text(model, start_string=seed_text, num_generate=500, temperature=0.8)\n",
    "\n",
    "# print(\" Generated Text \")\n",
    "# print(generated)"
   ]
  },
  {
   "cell_type": "markdown",
   "metadata": {},
   "source": [
    "# Saving the model"
   ]
  },
  {
   "cell_type": "code",
   "execution_count": null,
   "metadata": {},
   "outputs": [],
   "source": [
    "# model.save(\"poetry_generator_model.h5\")"
   ]
  }
 ],
 "metadata": {
  "kernelspec": {
   "display_name": "Python 3",
   "language": "python",
   "name": "python3"
  },
  "language_info": {
   "codemirror_mode": {
    "name": "ipython",
    "version": 3
   },
   "file_extension": ".py",
   "mimetype": "text/x-python",
   "name": "python",
   "nbconvert_exporter": "python",
   "pygments_lexer": "ipython3",
   "version": "3.11.9"
  }
 },
 "nbformat": 4,
 "nbformat_minor": 2
}
